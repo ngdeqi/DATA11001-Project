{
 "cells": [
  {
   "cell_type": "markdown",
   "id": "c88cc9b7",
   "metadata": {},
   "source": [
    "# Visualization of Predictions\n",
    "Export predictions as colored tables in html format"
   ]
  },
  {
   "cell_type": "code",
   "execution_count": 31,
   "id": "21e20e17",
   "metadata": {},
   "outputs": [],
   "source": [
    "%matplotlib widget\n",
    "import os, geopandas, folium, requests, matplotlib, folium.plugins, branca, plotly\n",
    "import pandas as pd\n",
    "import numpy as np\n",
    "import matplotlib.pyplot as plt\n",
    "import plotly.express as px\n",
    "import plotly.graph_objects as go\n",
    "from datetime import datetime, timedelta\n",
    "import utils\n"
   ]
  },
  {
   "cell_type": "code",
   "execution_count": 32,
   "id": "c43f4ed0",
   "metadata": {},
   "outputs": [],
   "source": [
    "PREDICTION_DIR = r\"predictions\"\n",
    "\n",
    "START_DATE = datetime.today().strftime('%Y-%m-%d')\n",
    "END_DATE = (datetime.today() + timedelta(days=7)).strftime('%Y-%m-%d') # 7 days after today\n",
    "\n",
    "POLLUTANTS = [\"SO2\", \"NOy\", \"CO\", \"C6H6\", \"PM10\", \"PM2.5\", \"Pb\", \"O3\"]"
   ]
  },
  {
   "cell_type": "code",
   "execution_count": 33,
   "id": "8af1fef7",
   "metadata": {},
   "outputs": [
    {
     "data": {
      "text/html": [
       "<div>\n",
       "<style scoped>\n",
       "    .dataframe tbody tr th:only-of-type {\n",
       "        vertical-align: middle;\n",
       "    }\n",
       "\n",
       "    .dataframe tbody tr th {\n",
       "        vertical-align: top;\n",
       "    }\n",
       "\n",
       "    .dataframe thead th {\n",
       "        text-align: right;\n",
       "    }\n",
       "</style>\n",
       "<table border=\"1\" class=\"dataframe\">\n",
       "  <thead>\n",
       "    <tr style=\"text-align: right;\">\n",
       "      <th></th>\n",
       "      <th>Date</th>\n",
       "      <th>Predicted_PM2.5</th>\n",
       "      <th>Predicted_PM10</th>\n",
       "      <th>Predicted_SO2</th>\n",
       "      <th>Predicted_O3</th>\n",
       "    </tr>\n",
       "  </thead>\n",
       "  <tbody>\n",
       "    <tr>\n",
       "      <th>0</th>\n",
       "      <td>2025-10-02</td>\n",
       "      <td>3.987999</td>\n",
       "      <td>7.508876</td>\n",
       "      <td>0.806964</td>\n",
       "      <td>55.983604</td>\n",
       "    </tr>\n",
       "    <tr>\n",
       "      <th>1</th>\n",
       "      <td>2025-10-03</td>\n",
       "      <td>4.409436</td>\n",
       "      <td>6.970961</td>\n",
       "      <td>0.591071</td>\n",
       "      <td>53.631402</td>\n",
       "    </tr>\n",
       "    <tr>\n",
       "      <th>2</th>\n",
       "      <td>2025-10-04</td>\n",
       "      <td>4.716873</td>\n",
       "      <td>7.002096</td>\n",
       "      <td>0.804539</td>\n",
       "      <td>52.971061</td>\n",
       "    </tr>\n",
       "    <tr>\n",
       "      <th>3</th>\n",
       "      <td>2025-10-05</td>\n",
       "      <td>4.953396</td>\n",
       "      <td>7.182804</td>\n",
       "      <td>1.274145</td>\n",
       "      <td>53.463397</td>\n",
       "    </tr>\n",
       "    <tr>\n",
       "      <th>4</th>\n",
       "      <td>2025-10-06</td>\n",
       "      <td>5.148458</td>\n",
       "      <td>7.399596</td>\n",
       "      <td>1.725513</td>\n",
       "      <td>54.246363</td>\n",
       "    </tr>\n",
       "  </tbody>\n",
       "</table>\n",
       "</div>"
      ],
      "text/plain": [
       "         Date  Predicted_PM2.5  Predicted_PM10  Predicted_SO2  Predicted_O3\n",
       "0  2025-10-02         3.987999        7.508876       0.806964     55.983604\n",
       "1  2025-10-03         4.409436        6.970961       0.591071     53.631402\n",
       "2  2025-10-04         4.716873        7.002096       0.804539     52.971061\n",
       "3  2025-10-05         4.953396        7.182804       1.274145     53.463397\n",
       "4  2025-10-06         5.148458        7.399596       1.725513     54.246363"
      ]
     },
     "execution_count": 33,
     "metadata": {},
     "output_type": "execute_result"
    }
   ],
   "source": [
    "filename = \"predictions_station_Kallio 2.csv\"\n",
    "\n",
    "df = pd.read_csv(PREDICTION_DIR + \"/\" + filename)\n",
    "df.head()"
   ]
  },
  {
   "cell_type": "code",
   "execution_count": 35,
   "id": "d86e2e0e",
   "metadata": {},
   "outputs": [
    {
     "data": {
      "text/html": [
       "<div>\n",
       "<style scoped>\n",
       "    .dataframe tbody tr th:only-of-type {\n",
       "        vertical-align: middle;\n",
       "    }\n",
       "\n",
       "    .dataframe tbody tr th {\n",
       "        vertical-align: top;\n",
       "    }\n",
       "\n",
       "    .dataframe thead th {\n",
       "        text-align: right;\n",
       "    }\n",
       "</style>\n",
       "<table border=\"1\" class=\"dataframe\">\n",
       "  <thead>\n",
       "    <tr style=\"text-align: right;\">\n",
       "      <th></th>\n",
       "      <th>Date</th>\n",
       "      <th>PM2.5</th>\n",
       "      <th>PM10</th>\n",
       "      <th>SO2</th>\n",
       "      <th>O3</th>\n",
       "    </tr>\n",
       "  </thead>\n",
       "  <tbody>\n",
       "    <tr>\n",
       "      <th>12</th>\n",
       "      <td>2025-10-14</td>\n",
       "      <td>5</td>\n",
       "      <td>8</td>\n",
       "      <td>1</td>\n",
       "      <td>55</td>\n",
       "    </tr>\n",
       "    <tr>\n",
       "      <th>13</th>\n",
       "      <td>2025-10-15</td>\n",
       "      <td>5</td>\n",
       "      <td>8</td>\n",
       "      <td>1</td>\n",
       "      <td>55</td>\n",
       "    </tr>\n",
       "    <tr>\n",
       "      <th>14</th>\n",
       "      <td>2025-10-16</td>\n",
       "      <td>5</td>\n",
       "      <td>8</td>\n",
       "      <td>1</td>\n",
       "      <td>55</td>\n",
       "    </tr>\n",
       "    <tr>\n",
       "      <th>15</th>\n",
       "      <td>2025-10-17</td>\n",
       "      <td>5</td>\n",
       "      <td>8</td>\n",
       "      <td>1</td>\n",
       "      <td>55</td>\n",
       "    </tr>\n",
       "    <tr>\n",
       "      <th>16</th>\n",
       "      <td>2025-10-18</td>\n",
       "      <td>5</td>\n",
       "      <td>8</td>\n",
       "      <td>1</td>\n",
       "      <td>55</td>\n",
       "    </tr>\n",
       "    <tr>\n",
       "      <th>17</th>\n",
       "      <td>2025-10-19</td>\n",
       "      <td>5</td>\n",
       "      <td>8</td>\n",
       "      <td>1</td>\n",
       "      <td>55</td>\n",
       "    </tr>\n",
       "    <tr>\n",
       "      <th>18</th>\n",
       "      <td>2025-10-20</td>\n",
       "      <td>5</td>\n",
       "      <td>8</td>\n",
       "      <td>1</td>\n",
       "      <td>55</td>\n",
       "    </tr>\n",
       "    <tr>\n",
       "      <th>19</th>\n",
       "      <td>2025-10-21</td>\n",
       "      <td>5</td>\n",
       "      <td>8</td>\n",
       "      <td>1</td>\n",
       "      <td>55</td>\n",
       "    </tr>\n",
       "  </tbody>\n",
       "</table>\n",
       "</div>"
      ],
      "text/plain": [
       "         Date  PM2.5  PM10  SO2  O3\n",
       "12 2025-10-14      5     8    1  55\n",
       "13 2025-10-15      5     8    1  55\n",
       "14 2025-10-16      5     8    1  55\n",
       "15 2025-10-17      5     8    1  55\n",
       "16 2025-10-18      5     8    1  55\n",
       "17 2025-10-19      5     8    1  55\n",
       "18 2025-10-20      5     8    1  55\n",
       "19 2025-10-21      5     8    1  55"
      ]
     },
     "execution_count": 35,
     "metadata": {},
     "output_type": "execute_result"
    }
   ],
   "source": [
    "def preprocess(df):\n",
    "    \n",
    "    df = df.copy()\n",
    "    \n",
    "    df[\"Date\"] = pd.to_datetime(df[\"Date\"])\n",
    "    df = df[(df[\"Date\"] >= START_DATE) & \\\n",
    "                    (df[\"Date\"] <= END_DATE)]                  # Filter to a smaller range of dates\n",
    "    \n",
    "    df.columns = df.columns.str.removeprefix(\"Predicted_\")\n",
    "    \n",
    "    for column in df.columns:\n",
    "        if column in POLLUTANTS: # if the column name contains pollutant name (i.e. \"PM2.5\")\n",
    "            df[column] = df[column].astype(int)\n",
    "    \n",
    "    \n",
    "    return df\n",
    "\n",
    "df = preprocess(df)\n",
    "\n",
    "df"
   ]
  },
  {
   "cell_type": "code",
   "execution_count": 37,
   "id": "d9f816f7",
   "metadata": {},
   "outputs": [
    {
     "data": {
      "application/vnd.plotly.v1+json": {
       "config": {
        "plotlyServerURL": "https://plot.ly"
       },
       "data": [
        {
         "cells": {
          "fill": {
           "color": [
            [
             "white",
             "white",
             "white",
             "white",
             "white",
             "white",
             "white",
             "white"
            ],
            [
             "#008000",
             "#008000",
             "#008000",
             "#008000",
             "#008000",
             "#008000",
             "#008000",
             "#008000"
            ],
            [
             "#008000",
             "#008000",
             "#008000",
             "#008000",
             "#008000",
             "#008000",
             "#008000",
             "#008000"
            ],
            [
             "#008000",
             "#008000",
             "#008000",
             "#008000",
             "#008000",
             "#008000",
             "#008000",
             "#008000"
            ],
            [
             "#008000",
             "#008000",
             "#008000",
             "#008000",
             "#008000",
             "#008000",
             "#008000",
             "#008000"
            ]
           ]
          },
          "values": [
           [
            "2025-10-14",
            "2025-10-15",
            "2025-10-16",
            "2025-10-17",
            "2025-10-18",
            "2025-10-19",
            "2025-10-20",
            "2025-10-21"
           ],
           [
            5,
            5,
            5,
            5,
            5,
            5,
            5,
            5
           ],
           [
            8,
            8,
            8,
            8,
            8,
            8,
            8,
            8
           ],
           [
            1,
            1,
            1,
            1,
            1,
            1,
            1,
            1
           ],
           [
            55,
            55,
            55,
            55,
            55,
            55,
            55,
            55
           ]
          ]
         },
         "header": {
          "fill": {
           "color": "paleturquoise"
          },
          "values": [
           "Date",
           "PM2.5",
           "PM10",
           "SO2",
           "O3"
          ]
         },
         "type": "table"
        }
       ],
       "layout": {
        "template": {
         "data": {
          "bar": [
           {
            "error_x": {
             "color": "#2a3f5f"
            },
            "error_y": {
             "color": "#2a3f5f"
            },
            "marker": {
             "line": {
              "color": "#E5ECF6",
              "width": 0.5
             },
             "pattern": {
              "fillmode": "overlay",
              "size": 10,
              "solidity": 0.2
             }
            },
            "type": "bar"
           }
          ],
          "barpolar": [
           {
            "marker": {
             "line": {
              "color": "#E5ECF6",
              "width": 0.5
             },
             "pattern": {
              "fillmode": "overlay",
              "size": 10,
              "solidity": 0.2
             }
            },
            "type": "barpolar"
           }
          ],
          "carpet": [
           {
            "aaxis": {
             "endlinecolor": "#2a3f5f",
             "gridcolor": "white",
             "linecolor": "white",
             "minorgridcolor": "white",
             "startlinecolor": "#2a3f5f"
            },
            "baxis": {
             "endlinecolor": "#2a3f5f",
             "gridcolor": "white",
             "linecolor": "white",
             "minorgridcolor": "white",
             "startlinecolor": "#2a3f5f"
            },
            "type": "carpet"
           }
          ],
          "choropleth": [
           {
            "colorbar": {
             "outlinewidth": 0,
             "ticks": ""
            },
            "type": "choropleth"
           }
          ],
          "contour": [
           {
            "colorbar": {
             "outlinewidth": 0,
             "ticks": ""
            },
            "colorscale": [
             [
              0,
              "#0d0887"
             ],
             [
              0.1111111111111111,
              "#46039f"
             ],
             [
              0.2222222222222222,
              "#7201a8"
             ],
             [
              0.3333333333333333,
              "#9c179e"
             ],
             [
              0.4444444444444444,
              "#bd3786"
             ],
             [
              0.5555555555555556,
              "#d8576b"
             ],
             [
              0.6666666666666666,
              "#ed7953"
             ],
             [
              0.7777777777777778,
              "#fb9f3a"
             ],
             [
              0.8888888888888888,
              "#fdca26"
             ],
             [
              1,
              "#f0f921"
             ]
            ],
            "type": "contour"
           }
          ],
          "contourcarpet": [
           {
            "colorbar": {
             "outlinewidth": 0,
             "ticks": ""
            },
            "type": "contourcarpet"
           }
          ],
          "heatmap": [
           {
            "colorbar": {
             "outlinewidth": 0,
             "ticks": ""
            },
            "colorscale": [
             [
              0,
              "#0d0887"
             ],
             [
              0.1111111111111111,
              "#46039f"
             ],
             [
              0.2222222222222222,
              "#7201a8"
             ],
             [
              0.3333333333333333,
              "#9c179e"
             ],
             [
              0.4444444444444444,
              "#bd3786"
             ],
             [
              0.5555555555555556,
              "#d8576b"
             ],
             [
              0.6666666666666666,
              "#ed7953"
             ],
             [
              0.7777777777777778,
              "#fb9f3a"
             ],
             [
              0.8888888888888888,
              "#fdca26"
             ],
             [
              1,
              "#f0f921"
             ]
            ],
            "type": "heatmap"
           }
          ],
          "histogram": [
           {
            "marker": {
             "pattern": {
              "fillmode": "overlay",
              "size": 10,
              "solidity": 0.2
             }
            },
            "type": "histogram"
           }
          ],
          "histogram2d": [
           {
            "colorbar": {
             "outlinewidth": 0,
             "ticks": ""
            },
            "colorscale": [
             [
              0,
              "#0d0887"
             ],
             [
              0.1111111111111111,
              "#46039f"
             ],
             [
              0.2222222222222222,
              "#7201a8"
             ],
             [
              0.3333333333333333,
              "#9c179e"
             ],
             [
              0.4444444444444444,
              "#bd3786"
             ],
             [
              0.5555555555555556,
              "#d8576b"
             ],
             [
              0.6666666666666666,
              "#ed7953"
             ],
             [
              0.7777777777777778,
              "#fb9f3a"
             ],
             [
              0.8888888888888888,
              "#fdca26"
             ],
             [
              1,
              "#f0f921"
             ]
            ],
            "type": "histogram2d"
           }
          ],
          "histogram2dcontour": [
           {
            "colorbar": {
             "outlinewidth": 0,
             "ticks": ""
            },
            "colorscale": [
             [
              0,
              "#0d0887"
             ],
             [
              0.1111111111111111,
              "#46039f"
             ],
             [
              0.2222222222222222,
              "#7201a8"
             ],
             [
              0.3333333333333333,
              "#9c179e"
             ],
             [
              0.4444444444444444,
              "#bd3786"
             ],
             [
              0.5555555555555556,
              "#d8576b"
             ],
             [
              0.6666666666666666,
              "#ed7953"
             ],
             [
              0.7777777777777778,
              "#fb9f3a"
             ],
             [
              0.8888888888888888,
              "#fdca26"
             ],
             [
              1,
              "#f0f921"
             ]
            ],
            "type": "histogram2dcontour"
           }
          ],
          "mesh3d": [
           {
            "colorbar": {
             "outlinewidth": 0,
             "ticks": ""
            },
            "type": "mesh3d"
           }
          ],
          "parcoords": [
           {
            "line": {
             "colorbar": {
              "outlinewidth": 0,
              "ticks": ""
             }
            },
            "type": "parcoords"
           }
          ],
          "pie": [
           {
            "automargin": true,
            "type": "pie"
           }
          ],
          "scatter": [
           {
            "fillpattern": {
             "fillmode": "overlay",
             "size": 10,
             "solidity": 0.2
            },
            "type": "scatter"
           }
          ],
          "scatter3d": [
           {
            "line": {
             "colorbar": {
              "outlinewidth": 0,
              "ticks": ""
             }
            },
            "marker": {
             "colorbar": {
              "outlinewidth": 0,
              "ticks": ""
             }
            },
            "type": "scatter3d"
           }
          ],
          "scattercarpet": [
           {
            "marker": {
             "colorbar": {
              "outlinewidth": 0,
              "ticks": ""
             }
            },
            "type": "scattercarpet"
           }
          ],
          "scattergeo": [
           {
            "marker": {
             "colorbar": {
              "outlinewidth": 0,
              "ticks": ""
             }
            },
            "type": "scattergeo"
           }
          ],
          "scattergl": [
           {
            "marker": {
             "colorbar": {
              "outlinewidth": 0,
              "ticks": ""
             }
            },
            "type": "scattergl"
           }
          ],
          "scattermap": [
           {
            "marker": {
             "colorbar": {
              "outlinewidth": 0,
              "ticks": ""
             }
            },
            "type": "scattermap"
           }
          ],
          "scattermapbox": [
           {
            "marker": {
             "colorbar": {
              "outlinewidth": 0,
              "ticks": ""
             }
            },
            "type": "scattermapbox"
           }
          ],
          "scatterpolar": [
           {
            "marker": {
             "colorbar": {
              "outlinewidth": 0,
              "ticks": ""
             }
            },
            "type": "scatterpolar"
           }
          ],
          "scatterpolargl": [
           {
            "marker": {
             "colorbar": {
              "outlinewidth": 0,
              "ticks": ""
             }
            },
            "type": "scatterpolargl"
           }
          ],
          "scatterternary": [
           {
            "marker": {
             "colorbar": {
              "outlinewidth": 0,
              "ticks": ""
             }
            },
            "type": "scatterternary"
           }
          ],
          "surface": [
           {
            "colorbar": {
             "outlinewidth": 0,
             "ticks": ""
            },
            "colorscale": [
             [
              0,
              "#0d0887"
             ],
             [
              0.1111111111111111,
              "#46039f"
             ],
             [
              0.2222222222222222,
              "#7201a8"
             ],
             [
              0.3333333333333333,
              "#9c179e"
             ],
             [
              0.4444444444444444,
              "#bd3786"
             ],
             [
              0.5555555555555556,
              "#d8576b"
             ],
             [
              0.6666666666666666,
              "#ed7953"
             ],
             [
              0.7777777777777778,
              "#fb9f3a"
             ],
             [
              0.8888888888888888,
              "#fdca26"
             ],
             [
              1,
              "#f0f921"
             ]
            ],
            "type": "surface"
           }
          ],
          "table": [
           {
            "cells": {
             "fill": {
              "color": "#EBF0F8"
             },
             "line": {
              "color": "white"
             }
            },
            "header": {
             "fill": {
              "color": "#C8D4E3"
             },
             "line": {
              "color": "white"
             }
            },
            "type": "table"
           }
          ]
         },
         "layout": {
          "annotationdefaults": {
           "arrowcolor": "#2a3f5f",
           "arrowhead": 0,
           "arrowwidth": 1
          },
          "autotypenumbers": "strict",
          "coloraxis": {
           "colorbar": {
            "outlinewidth": 0,
            "ticks": ""
           }
          },
          "colorscale": {
           "diverging": [
            [
             0,
             "#8e0152"
            ],
            [
             0.1,
             "#c51b7d"
            ],
            [
             0.2,
             "#de77ae"
            ],
            [
             0.3,
             "#f1b6da"
            ],
            [
             0.4,
             "#fde0ef"
            ],
            [
             0.5,
             "#f7f7f7"
            ],
            [
             0.6,
             "#e6f5d0"
            ],
            [
             0.7,
             "#b8e186"
            ],
            [
             0.8,
             "#7fbc41"
            ],
            [
             0.9,
             "#4d9221"
            ],
            [
             1,
             "#276419"
            ]
           ],
           "sequential": [
            [
             0,
             "#0d0887"
            ],
            [
             0.1111111111111111,
             "#46039f"
            ],
            [
             0.2222222222222222,
             "#7201a8"
            ],
            [
             0.3333333333333333,
             "#9c179e"
            ],
            [
             0.4444444444444444,
             "#bd3786"
            ],
            [
             0.5555555555555556,
             "#d8576b"
            ],
            [
             0.6666666666666666,
             "#ed7953"
            ],
            [
             0.7777777777777778,
             "#fb9f3a"
            ],
            [
             0.8888888888888888,
             "#fdca26"
            ],
            [
             1,
             "#f0f921"
            ]
           ],
           "sequentialminus": [
            [
             0,
             "#0d0887"
            ],
            [
             0.1111111111111111,
             "#46039f"
            ],
            [
             0.2222222222222222,
             "#7201a8"
            ],
            [
             0.3333333333333333,
             "#9c179e"
            ],
            [
             0.4444444444444444,
             "#bd3786"
            ],
            [
             0.5555555555555556,
             "#d8576b"
            ],
            [
             0.6666666666666666,
             "#ed7953"
            ],
            [
             0.7777777777777778,
             "#fb9f3a"
            ],
            [
             0.8888888888888888,
             "#fdca26"
            ],
            [
             1,
             "#f0f921"
            ]
           ]
          },
          "colorway": [
           "#636efa",
           "#EF553B",
           "#00cc96",
           "#ab63fa",
           "#FFA15A",
           "#19d3f3",
           "#FF6692",
           "#B6E880",
           "#FF97FF",
           "#FECB52"
          ],
          "font": {
           "color": "#2a3f5f"
          },
          "geo": {
           "bgcolor": "white",
           "lakecolor": "white",
           "landcolor": "#E5ECF6",
           "showlakes": true,
           "showland": true,
           "subunitcolor": "white"
          },
          "hoverlabel": {
           "align": "left"
          },
          "hovermode": "closest",
          "mapbox": {
           "style": "light"
          },
          "paper_bgcolor": "white",
          "plot_bgcolor": "#E5ECF6",
          "polar": {
           "angularaxis": {
            "gridcolor": "white",
            "linecolor": "white",
            "ticks": ""
           },
           "bgcolor": "#E5ECF6",
           "radialaxis": {
            "gridcolor": "white",
            "linecolor": "white",
            "ticks": ""
           }
          },
          "scene": {
           "xaxis": {
            "backgroundcolor": "#E5ECF6",
            "gridcolor": "white",
            "gridwidth": 2,
            "linecolor": "white",
            "showbackground": true,
            "ticks": "",
            "zerolinecolor": "white"
           },
           "yaxis": {
            "backgroundcolor": "#E5ECF6",
            "gridcolor": "white",
            "gridwidth": 2,
            "linecolor": "white",
            "showbackground": true,
            "ticks": "",
            "zerolinecolor": "white"
           },
           "zaxis": {
            "backgroundcolor": "#E5ECF6",
            "gridcolor": "white",
            "gridwidth": 2,
            "linecolor": "white",
            "showbackground": true,
            "ticks": "",
            "zerolinecolor": "white"
           }
          },
          "shapedefaults": {
           "line": {
            "color": "#2a3f5f"
           }
          },
          "ternary": {
           "aaxis": {
            "gridcolor": "white",
            "linecolor": "white",
            "ticks": ""
           },
           "baxis": {
            "gridcolor": "white",
            "linecolor": "white",
            "ticks": ""
           },
           "bgcolor": "#E5ECF6",
           "caxis": {
            "gridcolor": "white",
            "linecolor": "white",
            "ticks": ""
           }
          },
          "title": {
           "x": 0.05
          },
          "xaxis": {
           "automargin": true,
           "gridcolor": "white",
           "linecolor": "white",
           "ticks": "",
           "title": {
            "standoff": 15
           },
           "zerolinecolor": "white",
           "zerolinewidth": 2
          },
          "yaxis": {
           "automargin": true,
           "gridcolor": "white",
           "linecolor": "white",
           "ticks": "",
           "title": {
            "standoff": 15
           },
           "zerolinecolor": "white",
           "zerolinewidth": 2
          }
         }
        }
       }
      }
     },
     "metadata": {},
     "output_type": "display_data"
    }
   ],
   "source": [
    "def make_plotly_prediction_table(df, filename, dir_predictions, show_fig=False):\n",
    "    cell_colors = [[\"white\" for i in range(len(df))]]\n",
    "    cell_values = [df[\"Date\"].dt.strftime(\"%Y-%m-%d\").to_list()]\n",
    "\n",
    "    for column in df.columns:\n",
    "        for pollutant in POLLUTANTS:\n",
    "            if pollutant in column: # if the column name contains pollutant name (i.e. \"PM2.5\")\n",
    "                \n",
    "                cell_values.append(df[column].to_list())\n",
    "                \n",
    "                cmap = utils.cmaps[pollutant]\n",
    "                color_mapped_series = df[column].apply(cmap)\n",
    "                color_mapped_list = color_mapped_series.str[:-2].to_list() # remove last 2 chars which are alpha channel\n",
    "                cell_colors.append(color_mapped_list)\n",
    "                \n",
    "    fig = go.Figure(data=[go.Table(\n",
    "        header=dict(values=df.columns,\n",
    "                    fill_color=\"paleturquoise\"\n",
    "                    ),\n",
    "        cells=dict(values=cell_values,\n",
    "                    fill_color=cell_colors\n",
    "                    ),\n",
    "        )\n",
    "    ])\n",
    "    \n",
    "    if show_fig: fig.show()\n",
    "\n",
    "    fig.write_html(f\"{dir_predictions}/{os.path.splitext(filename)[0]}.html\") # remove \".csv\" from filename\n",
    "\n",
    "make_plotly_prediction_table(df, filename, PREDICTION_DIR, True)"
   ]
  },
  {
   "cell_type": "markdown",
   "id": "28d94841",
   "metadata": {},
   "source": [
    "Define function to generate html table (in string) for timeStampedGeoJson popup"
   ]
  },
  {
   "cell_type": "code",
   "execution_count": 38,
   "id": "6cf996b0",
   "metadata": {},
   "outputs": [
    {
     "data": {
      "text/plain": [
       "'<style type=\"text/css\">\\n#T_bd7d7_row0_col0, #T_bd7d7_row0_col1, #T_bd7d7_row0_col2, #T_bd7d7_row0_col3, #T_bd7d7_row1_col0, #T_bd7d7_row1_col1, #T_bd7d7_row1_col2, #T_bd7d7_row1_col3, #T_bd7d7_row2_col0, #T_bd7d7_row2_col1, #T_bd7d7_row2_col2, #T_bd7d7_row2_col3, #T_bd7d7_row3_col0, #T_bd7d7_row3_col1, #T_bd7d7_row3_col2, #T_bd7d7_row3_col3, #T_bd7d7_row4_col0, #T_bd7d7_row4_col1, #T_bd7d7_row4_col2, #T_bd7d7_row4_col3, #T_bd7d7_row5_col0, #T_bd7d7_row5_col1, #T_bd7d7_row5_col2, #T_bd7d7_row5_col3, #T_bd7d7_row6_col0, #T_bd7d7_row6_col1, #T_bd7d7_row6_col2, #T_bd7d7_row6_col3, #T_bd7d7_row7_col0, #T_bd7d7_row7_col1, #T_bd7d7_row7_col2, #T_bd7d7_row7_col3 {\\n  background-color: #008000ff;\\n}\\n</style>\\n<table id=\"T_bd7d7\">\\n  <thead>\\n    <tr>\\n      <th class=\"blank level0\" >&nbsp;</th>\\n      <th id=\"T_bd7d7_level0_col0\" class=\"col_heading level0 col0\" >PM2.5</th>\\n      <th id=\"T_bd7d7_level0_col1\" class=\"col_heading level0 col1\" >PM10</th>\\n      <th id=\"T_bd7d7_level0_col2\" class=\"col_heading level0 col2\" >SO2</th>\\n      <th id=\"T_bd7d7_level0_col3\" class=\"col_heading level0 col3\" >O3</th>\\n    </tr>\\n    <tr>\\n      <th class=\"index_name level0\" >Date</th>\\n      <th class=\"blank col0\" >&nbsp;</th>\\n      <th class=\"blank col1\" >&nbsp;</th>\\n      <th class=\"blank col2\" >&nbsp;</th>\\n      <th class=\"blank col3\" >&nbsp;</th>\\n    </tr>\\n  </thead>\\n  <tbody>\\n    <tr>\\n      <th id=\"T_bd7d7_level0_row0\" class=\"row_heading level0 row0\" >2025-10-14</th>\\n      <td id=\"T_bd7d7_row0_col0\" class=\"data row0 col0\" >5</td>\\n      <td id=\"T_bd7d7_row0_col1\" class=\"data row0 col1\" >8</td>\\n      <td id=\"T_bd7d7_row0_col2\" class=\"data row0 col2\" >1</td>\\n      <td id=\"T_bd7d7_row0_col3\" class=\"data row0 col3\" >55</td>\\n    </tr>\\n    <tr>\\n      <th id=\"T_bd7d7_level0_row1\" class=\"row_heading level0 row1\" >2025-10-15</th>\\n      <td id=\"T_bd7d7_row1_col0\" class=\"data row1 col0\" >5</td>\\n      <td id=\"T_bd7d7_row1_col1\" class=\"data row1 col1\" >8</td>\\n      <td id=\"T_bd7d7_row1_col2\" class=\"data row1 col2\" >1</td>\\n      <td id=\"T_bd7d7_row1_col3\" class=\"data row1 col3\" >55</td>\\n    </tr>\\n    <tr>\\n      <th id=\"T_bd7d7_level0_row2\" class=\"row_heading level0 row2\" >2025-10-16</th>\\n      <td id=\"T_bd7d7_row2_col0\" class=\"data row2 col0\" >5</td>\\n      <td id=\"T_bd7d7_row2_col1\" class=\"data row2 col1\" >8</td>\\n      <td id=\"T_bd7d7_row2_col2\" class=\"data row2 col2\" >1</td>\\n      <td id=\"T_bd7d7_row2_col3\" class=\"data row2 col3\" >55</td>\\n    </tr>\\n    <tr>\\n      <th id=\"T_bd7d7_level0_row3\" class=\"row_heading level0 row3\" >2025-10-17</th>\\n      <td id=\"T_bd7d7_row3_col0\" class=\"data row3 col0\" >5</td>\\n      <td id=\"T_bd7d7_row3_col1\" class=\"data row3 col1\" >8</td>\\n      <td id=\"T_bd7d7_row3_col2\" class=\"data row3 col2\" >1</td>\\n      <td id=\"T_bd7d7_row3_col3\" class=\"data row3 col3\" >55</td>\\n    </tr>\\n    <tr>\\n      <th id=\"T_bd7d7_level0_row4\" class=\"row_heading level0 row4\" >2025-10-18</th>\\n      <td id=\"T_bd7d7_row4_col0\" class=\"data row4 col0\" >5</td>\\n      <td id=\"T_bd7d7_row4_col1\" class=\"data row4 col1\" >8</td>\\n      <td id=\"T_bd7d7_row4_col2\" class=\"data row4 col2\" >1</td>\\n      <td id=\"T_bd7d7_row4_col3\" class=\"data row4 col3\" >55</td>\\n    </tr>\\n    <tr>\\n      <th id=\"T_bd7d7_level0_row5\" class=\"row_heading level0 row5\" >2025-10-19</th>\\n      <td id=\"T_bd7d7_row5_col0\" class=\"data row5 col0\" >5</td>\\n      <td id=\"T_bd7d7_row5_col1\" class=\"data row5 col1\" >8</td>\\n      <td id=\"T_bd7d7_row5_col2\" class=\"data row5 col2\" >1</td>\\n      <td id=\"T_bd7d7_row5_col3\" class=\"data row5 col3\" >55</td>\\n    </tr>\\n    <tr>\\n      <th id=\"T_bd7d7_level0_row6\" class=\"row_heading level0 row6\" >2025-10-20</th>\\n      <td id=\"T_bd7d7_row6_col0\" class=\"data row6 col0\" >5</td>\\n      <td id=\"T_bd7d7_row6_col1\" class=\"data row6 col1\" >8</td>\\n      <td id=\"T_bd7d7_row6_col2\" class=\"data row6 col2\" >1</td>\\n      <td id=\"T_bd7d7_row6_col3\" class=\"data row6 col3\" >55</td>\\n    </tr>\\n    <tr>\\n      <th id=\"T_bd7d7_level0_row7\" class=\"row_heading level0 row7\" >2025-10-21</th>\\n      <td id=\"T_bd7d7_row7_col0\" class=\"data row7 col0\" >5</td>\\n      <td id=\"T_bd7d7_row7_col1\" class=\"data row7 col1\" >8</td>\\n      <td id=\"T_bd7d7_row7_col2\" class=\"data row7 col2\" >1</td>\\n      <td id=\"T_bd7d7_row7_col3\" class=\"data row7 col3\" >55</td>\\n    </tr>\\n  </tbody>\\n</table>\\n'"
      ]
     },
     "execution_count": 38,
     "metadata": {},
     "output_type": "execute_result"
    }
   ],
   "source": [
    "def make_html_prediction_table(df, dir_predictions, filename, return_string:bool):\n",
    "    \n",
    "    def map_html_color(val, pollutant):\n",
    "        cmap = utils.cmaps[pollutant]\n",
    "        return f\"background-color: {cmap(val)}\"\n",
    "    \n",
    "    df = df.copy()\n",
    "    df[\"Date\"] = df[\"Date\"].dt.strftime(\"%Y-%m-%d\")\n",
    "    df = df.set_index(\"Date\")    \n",
    "\n",
    "    styled = df.style\n",
    "    \n",
    "    for column in df.columns:\n",
    "        pollutant = column.removeprefix(\"Predicted_\")\n",
    "        styled = styled.map(map_html_color, subset=[column], pollutant=pollutant)\n",
    "    \n",
    "    if return_string:\n",
    "        # return html as string\n",
    "        return styled.to_html()  \n",
    "    else:\n",
    "        # return .html file\n",
    "        return styled.to_html(f\"{dir_predictions}/{os.path.splitext(filename)[0]}.html\")\n",
    "\n",
    "\n",
    "df_test = df.copy()\n",
    "\n",
    "styled = make_html_prediction_table(df_test, PREDICTION_DIR, filename, return_string=True)\n",
    "styled"
   ]
  },
  {
   "cell_type": "markdown",
   "id": "d5aaee5e",
   "metadata": {},
   "source": [
    "Iterate through csv predictions and generate html table strings"
   ]
  },
  {
   "cell_type": "code",
   "execution_count": 39,
   "id": "697d8ba8",
   "metadata": {},
   "outputs": [],
   "source": [
    "dir_predictions = os.path.join(os.getcwd(), PREDICTION_DIR)\n",
    "\n",
    "df_html_tables = {} # mapping of {Air quality station name: table html string}\n",
    "\n",
    "for root, _, files in os.walk(dir_predictions): # scans through data directory recursively\n",
    "    for filename in files:\n",
    "        if not filename.endswith(\".csv\"):\n",
    "            continue\n",
    "        df = pd.read_csv(os.path.join(root, filename))\n",
    "        df = preprocess(df)\n",
    "        \n",
    "        # make_plotly_prediction_table(df, filename, dir_predictions) # For plotly tables (interactive but too large)\n",
    "        \n",
    "        html_string = make_html_prediction_table(df, dir_predictions, filename, return_string=True)\n",
    "        station = os.path.splitext(filename)[0].removeprefix(\"predictions_station_\")\n",
    "        df_html_tables[station] = html_string\n",
    "        \n",
    "df_html_tables = pd.DataFrame([df_html_tables])\n",
    "df_html_tables.to_csv(PREDICTION_DIR + '/predictions_html.txt', index=False) "
   ]
  }
 ],
 "metadata": {
  "kernelspec": {
   "display_name": "Python 3",
   "language": "python",
   "name": "python3"
  },
  "language_info": {
   "codemirror_mode": {
    "name": "ipython",
    "version": 3
   },
   "file_extension": ".py",
   "mimetype": "text/x-python",
   "name": "python",
   "nbconvert_exporter": "python",
   "pygments_lexer": "ipython3",
   "version": "3.12.2"
  }
 },
 "nbformat": 4,
 "nbformat_minor": 5
}
