{
 "cells": [
  {
   "cell_type": "markdown",
   "id": "c88cc9b7",
   "metadata": {},
   "source": [
    "# Visualization of Predictions\n",
    "Export predictions as interactive html files"
   ]
  },
  {
   "cell_type": "code",
   "execution_count": 161,
   "id": "21e20e17",
   "metadata": {},
   "outputs": [],
   "source": [
    "%matplotlib widget\n",
    "import os, geopandas, folium, requests, matplotlib, folium.plugins, branca, plotly\n",
    "import pandas as pd\n",
    "import numpy as np\n",
    "import matplotlib.pyplot as plt\n",
    "import plotly.express as px\n",
    "import plotly.graph_objects as go\n",
    "from datetime import datetime, timedelta\n",
    "import utils\n"
   ]
  },
  {
   "cell_type": "code",
   "execution_count": 162,
   "id": "c43f4ed0",
   "metadata": {},
   "outputs": [],
   "source": [
    "START_DATE = (datetime.today() - timedelta(days=1)).strftime('%Y-%m-%d') # 7 days before today\n",
    "END_DATE = datetime.today().strftime('%Y-%m-%d')\n",
    "\n",
    "POLLUTANTS = [\"SO2\", \"NOy\", \"CO\", \"C6H6\", \"PM10\", \"PM2.5\", \"Pb\", \"O3\"]"
   ]
  },
  {
   "cell_type": "code",
   "execution_count": 163,
   "id": "8af1fef7",
   "metadata": {},
   "outputs": [
    {
     "data": {
      "text/html": [
       "<div>\n",
       "<style scoped>\n",
       "    .dataframe tbody tr th:only-of-type {\n",
       "        vertical-align: middle;\n",
       "    }\n",
       "\n",
       "    .dataframe tbody tr th {\n",
       "        vertical-align: top;\n",
       "    }\n",
       "\n",
       "    .dataframe thead th {\n",
       "        text-align: right;\n",
       "    }\n",
       "</style>\n",
       "<table border=\"1\" class=\"dataframe\">\n",
       "  <thead>\n",
       "    <tr style=\"text-align: right;\">\n",
       "      <th></th>\n",
       "      <th>Date</th>\n",
       "      <th>Predicted_PM2.5</th>\n",
       "      <th>Predicted_PM10</th>\n",
       "      <th>Predicted_SO2</th>\n",
       "      <th>Predicted_O3</th>\n",
       "    </tr>\n",
       "  </thead>\n",
       "  <tbody>\n",
       "    <tr>\n",
       "      <th>0</th>\n",
       "      <td>2025-10-01 00:00:00</td>\n",
       "      <td>2.997679</td>\n",
       "      <td>7.352388</td>\n",
       "      <td>1.016420</td>\n",
       "      <td>79.542990</td>\n",
       "    </tr>\n",
       "    <tr>\n",
       "      <th>1</th>\n",
       "      <td>2025-10-01 01:00:00</td>\n",
       "      <td>3.920300</td>\n",
       "      <td>9.046658</td>\n",
       "      <td>1.026561</td>\n",
       "      <td>79.435684</td>\n",
       "    </tr>\n",
       "    <tr>\n",
       "      <th>2</th>\n",
       "      <td>2025-10-01 02:00:00</td>\n",
       "      <td>4.753071</td>\n",
       "      <td>10.423732</td>\n",
       "      <td>1.048105</td>\n",
       "      <td>79.373160</td>\n",
       "    </tr>\n",
       "    <tr>\n",
       "      <th>3</th>\n",
       "      <td>2025-10-01 03:00:00</td>\n",
       "      <td>5.432879</td>\n",
       "      <td>11.471492</td>\n",
       "      <td>1.081256</td>\n",
       "      <td>79.315170</td>\n",
       "    </tr>\n",
       "    <tr>\n",
       "      <th>4</th>\n",
       "      <td>2025-10-01 04:00:00</td>\n",
       "      <td>5.965568</td>\n",
       "      <td>12.220298</td>\n",
       "      <td>1.123373</td>\n",
       "      <td>79.266610</td>\n",
       "    </tr>\n",
       "  </tbody>\n",
       "</table>\n",
       "</div>"
      ],
      "text/plain": [
       "                  Date  Predicted_PM2.5  Predicted_PM10  Predicted_SO2  \\\n",
       "0  2025-10-01 00:00:00         2.997679        7.352388       1.016420   \n",
       "1  2025-10-01 01:00:00         3.920300        9.046658       1.026561   \n",
       "2  2025-10-01 02:00:00         4.753071       10.423732       1.048105   \n",
       "3  2025-10-01 03:00:00         5.432879       11.471492       1.081256   \n",
       "4  2025-10-01 04:00:00         5.965568       12.220298       1.123373   \n",
       "\n",
       "   Predicted_O3  \n",
       "0     79.542990  \n",
       "1     79.435684  \n",
       "2     79.373160  \n",
       "3     79.315170  \n",
       "4     79.266610  "
      ]
     },
     "execution_count": 163,
     "metadata": {},
     "output_type": "execute_result"
    }
   ],
   "source": [
    "filename = \"predictions/predictions_station_Kallio_2.csv\"\n",
    "\n",
    "df = pd.read_csv(filename)\n",
    "df.head()"
   ]
  },
  {
   "cell_type": "code",
   "execution_count": 164,
   "id": "d86e2e0e",
   "metadata": {},
   "outputs": [],
   "source": [
    "df[\"Date\"] = pd.to_datetime(df[\"Date\"])\n",
    "df = df[(df[\"Date\"] >= START_DATE) & \\\n",
    "                (df[\"Date\"] <= END_DATE)]                  # Filter to a smaller range of dates\n",
    "\n",
    "# fig = px.line(df, x=\"Date\", y=\"Predicted_PM2.5\")\n",
    "# fig.show()\n",
    "# fig.write_html(\"predictions_plotly.html\")"
   ]
  },
  {
   "cell_type": "code",
   "execution_count": 165,
   "id": "d9f816f7",
   "metadata": {},
   "outputs": [
    {
     "data": {
      "application/vnd.plotly.v1+json": {
       "config": {
        "plotlyServerURL": "https://plot.ly"
       },
       "data": [
        {
         "cells": {
          "fill": {
           "color": [
            [
             "white",
             "white",
             "white",
             "white",
             "white",
             "white",
             "white",
             "white",
             "white",
             "white",
             "white",
             "white",
             "white",
             "white",
             "white",
             "white",
             "white",
             "white",
             "white",
             "white",
             "white",
             "white",
             "white",
             "white",
             "white"
            ],
            [
             "#ff9b00",
             "#ff9b00",
             "#ff9b00",
             "#ff9b00",
             "#ff9b00",
             "#ff9b00",
             "#ff9b00",
             "#ff9b00",
             "#ff9b00",
             "#ff9b00",
             "#ff9b00",
             "#ff9b00",
             "#ff9b00",
             "#ff9b00",
             "#ff9b00",
             "#ff9b00",
             "#ff9b00",
             "#ff9b00",
             "#ff9b00",
             "#ff9b00",
             "#ff9b00",
             "#ff9b00",
             "#ff9b00",
             "#ff9b00",
             "#ff9c00"
            ],
            [
             "#4ba500",
             "#4aa500",
             "#4aa500",
             "#4aa500",
             "#4aa500",
             "#4aa500",
             "#4aa500",
             "#4aa500",
             "#4aa500",
             "#4aa500",
             "#4aa500",
             "#4aa500",
             "#4aa500",
             "#4aa500",
             "#4aa500",
             "#4aa500",
             "#4aa500",
             "#4aa500",
             "#4aa500",
             "#4aa500",
             "#4aa500",
             "#4aa500",
             "#4aa500",
             "#4aa500",
             "#4aa500"
            ],
            [
             "#008000",
             "#008000",
             "#008000",
             "#008000",
             "#008000",
             "#008000",
             "#008000",
             "#008000",
             "#008000",
             "#008000",
             "#008000",
             "#008000",
             "#008000",
             "#008000",
             "#008000",
             "#008000",
             "#008000",
             "#008000",
             "#008000",
             "#008000",
             "#008000",
             "#008000",
             "#008000",
             "#008000",
             "#008000"
            ],
            [
             "#008000",
             "#008000",
             "#008000",
             "#008000",
             "#008000",
             "#008000",
             "#008000",
             "#008000",
             "#008000",
             "#008000",
             "#008000",
             "#008000",
             "#008000",
             "#008000",
             "#008000",
             "#008000",
             "#008000",
             "#008000",
             "#008000",
             "#008000",
             "#008000",
             "#008000",
             "#008000",
             "#008000",
             "#008000"
            ]
           ]
          },
          "values": [
           [
            "00:00",
            "01:00",
            "02:00",
            "03:00",
            "04:00",
            "05:00",
            "06:00",
            "07:00",
            "08:00",
            "09:00",
            "10:00",
            "11:00",
            "12:00",
            "13:00",
            "14:00",
            "15:00",
            "16:00",
            "17:00",
            "18:00",
            "19:00",
            "20:00",
            "21:00",
            "22:00",
            "23:00",
            "00:00"
           ],
           [
            47.927227,
            47.927227,
            47.927227,
            47.927227,
            47.927227,
            47.927227,
            47.927227,
            47.927227,
            47.927227,
            47.927227,
            47.927227,
            47.927227,
            47.927227,
            47.927227,
            47.927227,
            47.927227,
            47.92138,
            47.912422,
            47.90317,
            47.893368,
            47.882866,
            47.87178,
            47.8605,
            47.84932,
            47.83849
           ],
           [
            46.23724,
            46.228977,
            46.22202,
            46.21574,
            46.20972,
            46.20388,
            46.197983,
            46.191715,
            46.184715,
            46.176895,
            46.168503,
            46.159954,
            46.151707,
            46.143993,
            46.136715,
            46.12961,
            46.122437,
            46.115097,
            46.10745,
            46.099255,
            46.090385,
            46.080963,
            46.07141,
            46.062138,
            46.053467
           ],
           [
            1.2826312,
            1.2834356,
            1.28441,
            1.2855294,
            1.2867868,
            1.2881474,
            1.2895099,
            1.2907715,
            1.2918378,
            1.2926222,
            1.2931001,
            1.293304,
            1.2933582,
            1.2933303,
            1.293248,
            1.2931575,
            1.2930764,
            1.2929889,
            1.2928811,
            1.292745,
            1.2925661,
            1.2923443,
            1.292102,
            1.2918702,
            1.2916566
           ],
           [
            60.949467,
            60.940422,
            60.93204,
            60.924225,
            60.91721,
            60.911396,
            60.906536,
            60.90197,
            60.897083,
            60.89132,
            60.88451,
            60.877045,
            60.869682,
            60.862835,
            60.856068,
            60.84902,
            60.84172,
            60.83432,
            60.826885,
            60.819294,
            60.811478,
            60.80345,
            60.79529,
            60.787067,
            60.778904
           ]
          ]
         },
         "header": {
          "fill": {
           "color": "paleturquoise"
          },
          "values": [
           "Date",
           "Predicted_PM2.5",
           "Predicted_PM10",
           "Predicted_SO2",
           "Predicted_O3"
          ]
         },
         "type": "table"
        }
       ],
       "layout": {
        "template": {
         "data": {
          "bar": [
           {
            "error_x": {
             "color": "#2a3f5f"
            },
            "error_y": {
             "color": "#2a3f5f"
            },
            "marker": {
             "line": {
              "color": "#E5ECF6",
              "width": 0.5
             },
             "pattern": {
              "fillmode": "overlay",
              "size": 10,
              "solidity": 0.2
             }
            },
            "type": "bar"
           }
          ],
          "barpolar": [
           {
            "marker": {
             "line": {
              "color": "#E5ECF6",
              "width": 0.5
             },
             "pattern": {
              "fillmode": "overlay",
              "size": 10,
              "solidity": 0.2
             }
            },
            "type": "barpolar"
           }
          ],
          "carpet": [
           {
            "aaxis": {
             "endlinecolor": "#2a3f5f",
             "gridcolor": "white",
             "linecolor": "white",
             "minorgridcolor": "white",
             "startlinecolor": "#2a3f5f"
            },
            "baxis": {
             "endlinecolor": "#2a3f5f",
             "gridcolor": "white",
             "linecolor": "white",
             "minorgridcolor": "white",
             "startlinecolor": "#2a3f5f"
            },
            "type": "carpet"
           }
          ],
          "choropleth": [
           {
            "colorbar": {
             "outlinewidth": 0,
             "ticks": ""
            },
            "type": "choropleth"
           }
          ],
          "contour": [
           {
            "colorbar": {
             "outlinewidth": 0,
             "ticks": ""
            },
            "colorscale": [
             [
              0,
              "#0d0887"
             ],
             [
              0.1111111111111111,
              "#46039f"
             ],
             [
              0.2222222222222222,
              "#7201a8"
             ],
             [
              0.3333333333333333,
              "#9c179e"
             ],
             [
              0.4444444444444444,
              "#bd3786"
             ],
             [
              0.5555555555555556,
              "#d8576b"
             ],
             [
              0.6666666666666666,
              "#ed7953"
             ],
             [
              0.7777777777777778,
              "#fb9f3a"
             ],
             [
              0.8888888888888888,
              "#fdca26"
             ],
             [
              1,
              "#f0f921"
             ]
            ],
            "type": "contour"
           }
          ],
          "contourcarpet": [
           {
            "colorbar": {
             "outlinewidth": 0,
             "ticks": ""
            },
            "type": "contourcarpet"
           }
          ],
          "heatmap": [
           {
            "colorbar": {
             "outlinewidth": 0,
             "ticks": ""
            },
            "colorscale": [
             [
              0,
              "#0d0887"
             ],
             [
              0.1111111111111111,
              "#46039f"
             ],
             [
              0.2222222222222222,
              "#7201a8"
             ],
             [
              0.3333333333333333,
              "#9c179e"
             ],
             [
              0.4444444444444444,
              "#bd3786"
             ],
             [
              0.5555555555555556,
              "#d8576b"
             ],
             [
              0.6666666666666666,
              "#ed7953"
             ],
             [
              0.7777777777777778,
              "#fb9f3a"
             ],
             [
              0.8888888888888888,
              "#fdca26"
             ],
             [
              1,
              "#f0f921"
             ]
            ],
            "type": "heatmap"
           }
          ],
          "histogram": [
           {
            "marker": {
             "pattern": {
              "fillmode": "overlay",
              "size": 10,
              "solidity": 0.2
             }
            },
            "type": "histogram"
           }
          ],
          "histogram2d": [
           {
            "colorbar": {
             "outlinewidth": 0,
             "ticks": ""
            },
            "colorscale": [
             [
              0,
              "#0d0887"
             ],
             [
              0.1111111111111111,
              "#46039f"
             ],
             [
              0.2222222222222222,
              "#7201a8"
             ],
             [
              0.3333333333333333,
              "#9c179e"
             ],
             [
              0.4444444444444444,
              "#bd3786"
             ],
             [
              0.5555555555555556,
              "#d8576b"
             ],
             [
              0.6666666666666666,
              "#ed7953"
             ],
             [
              0.7777777777777778,
              "#fb9f3a"
             ],
             [
              0.8888888888888888,
              "#fdca26"
             ],
             [
              1,
              "#f0f921"
             ]
            ],
            "type": "histogram2d"
           }
          ],
          "histogram2dcontour": [
           {
            "colorbar": {
             "outlinewidth": 0,
             "ticks": ""
            },
            "colorscale": [
             [
              0,
              "#0d0887"
             ],
             [
              0.1111111111111111,
              "#46039f"
             ],
             [
              0.2222222222222222,
              "#7201a8"
             ],
             [
              0.3333333333333333,
              "#9c179e"
             ],
             [
              0.4444444444444444,
              "#bd3786"
             ],
             [
              0.5555555555555556,
              "#d8576b"
             ],
             [
              0.6666666666666666,
              "#ed7953"
             ],
             [
              0.7777777777777778,
              "#fb9f3a"
             ],
             [
              0.8888888888888888,
              "#fdca26"
             ],
             [
              1,
              "#f0f921"
             ]
            ],
            "type": "histogram2dcontour"
           }
          ],
          "mesh3d": [
           {
            "colorbar": {
             "outlinewidth": 0,
             "ticks": ""
            },
            "type": "mesh3d"
           }
          ],
          "parcoords": [
           {
            "line": {
             "colorbar": {
              "outlinewidth": 0,
              "ticks": ""
             }
            },
            "type": "parcoords"
           }
          ],
          "pie": [
           {
            "automargin": true,
            "type": "pie"
           }
          ],
          "scatter": [
           {
            "fillpattern": {
             "fillmode": "overlay",
             "size": 10,
             "solidity": 0.2
            },
            "type": "scatter"
           }
          ],
          "scatter3d": [
           {
            "line": {
             "colorbar": {
              "outlinewidth": 0,
              "ticks": ""
             }
            },
            "marker": {
             "colorbar": {
              "outlinewidth": 0,
              "ticks": ""
             }
            },
            "type": "scatter3d"
           }
          ],
          "scattercarpet": [
           {
            "marker": {
             "colorbar": {
              "outlinewidth": 0,
              "ticks": ""
             }
            },
            "type": "scattercarpet"
           }
          ],
          "scattergeo": [
           {
            "marker": {
             "colorbar": {
              "outlinewidth": 0,
              "ticks": ""
             }
            },
            "type": "scattergeo"
           }
          ],
          "scattergl": [
           {
            "marker": {
             "colorbar": {
              "outlinewidth": 0,
              "ticks": ""
             }
            },
            "type": "scattergl"
           }
          ],
          "scattermap": [
           {
            "marker": {
             "colorbar": {
              "outlinewidth": 0,
              "ticks": ""
             }
            },
            "type": "scattermap"
           }
          ],
          "scattermapbox": [
           {
            "marker": {
             "colorbar": {
              "outlinewidth": 0,
              "ticks": ""
             }
            },
            "type": "scattermapbox"
           }
          ],
          "scatterpolar": [
           {
            "marker": {
             "colorbar": {
              "outlinewidth": 0,
              "ticks": ""
             }
            },
            "type": "scatterpolar"
           }
          ],
          "scatterpolargl": [
           {
            "marker": {
             "colorbar": {
              "outlinewidth": 0,
              "ticks": ""
             }
            },
            "type": "scatterpolargl"
           }
          ],
          "scatterternary": [
           {
            "marker": {
             "colorbar": {
              "outlinewidth": 0,
              "ticks": ""
             }
            },
            "type": "scatterternary"
           }
          ],
          "surface": [
           {
            "colorbar": {
             "outlinewidth": 0,
             "ticks": ""
            },
            "colorscale": [
             [
              0,
              "#0d0887"
             ],
             [
              0.1111111111111111,
              "#46039f"
             ],
             [
              0.2222222222222222,
              "#7201a8"
             ],
             [
              0.3333333333333333,
              "#9c179e"
             ],
             [
              0.4444444444444444,
              "#bd3786"
             ],
             [
              0.5555555555555556,
              "#d8576b"
             ],
             [
              0.6666666666666666,
              "#ed7953"
             ],
             [
              0.7777777777777778,
              "#fb9f3a"
             ],
             [
              0.8888888888888888,
              "#fdca26"
             ],
             [
              1,
              "#f0f921"
             ]
            ],
            "type": "surface"
           }
          ],
          "table": [
           {
            "cells": {
             "fill": {
              "color": "#EBF0F8"
             },
             "line": {
              "color": "white"
             }
            },
            "header": {
             "fill": {
              "color": "#C8D4E3"
             },
             "line": {
              "color": "white"
             }
            },
            "type": "table"
           }
          ]
         },
         "layout": {
          "annotationdefaults": {
           "arrowcolor": "#2a3f5f",
           "arrowhead": 0,
           "arrowwidth": 1
          },
          "autotypenumbers": "strict",
          "coloraxis": {
           "colorbar": {
            "outlinewidth": 0,
            "ticks": ""
           }
          },
          "colorscale": {
           "diverging": [
            [
             0,
             "#8e0152"
            ],
            [
             0.1,
             "#c51b7d"
            ],
            [
             0.2,
             "#de77ae"
            ],
            [
             0.3,
             "#f1b6da"
            ],
            [
             0.4,
             "#fde0ef"
            ],
            [
             0.5,
             "#f7f7f7"
            ],
            [
             0.6,
             "#e6f5d0"
            ],
            [
             0.7,
             "#b8e186"
            ],
            [
             0.8,
             "#7fbc41"
            ],
            [
             0.9,
             "#4d9221"
            ],
            [
             1,
             "#276419"
            ]
           ],
           "sequential": [
            [
             0,
             "#0d0887"
            ],
            [
             0.1111111111111111,
             "#46039f"
            ],
            [
             0.2222222222222222,
             "#7201a8"
            ],
            [
             0.3333333333333333,
             "#9c179e"
            ],
            [
             0.4444444444444444,
             "#bd3786"
            ],
            [
             0.5555555555555556,
             "#d8576b"
            ],
            [
             0.6666666666666666,
             "#ed7953"
            ],
            [
             0.7777777777777778,
             "#fb9f3a"
            ],
            [
             0.8888888888888888,
             "#fdca26"
            ],
            [
             1,
             "#f0f921"
            ]
           ],
           "sequentialminus": [
            [
             0,
             "#0d0887"
            ],
            [
             0.1111111111111111,
             "#46039f"
            ],
            [
             0.2222222222222222,
             "#7201a8"
            ],
            [
             0.3333333333333333,
             "#9c179e"
            ],
            [
             0.4444444444444444,
             "#bd3786"
            ],
            [
             0.5555555555555556,
             "#d8576b"
            ],
            [
             0.6666666666666666,
             "#ed7953"
            ],
            [
             0.7777777777777778,
             "#fb9f3a"
            ],
            [
             0.8888888888888888,
             "#fdca26"
            ],
            [
             1,
             "#f0f921"
            ]
           ]
          },
          "colorway": [
           "#636efa",
           "#EF553B",
           "#00cc96",
           "#ab63fa",
           "#FFA15A",
           "#19d3f3",
           "#FF6692",
           "#B6E880",
           "#FF97FF",
           "#FECB52"
          ],
          "font": {
           "color": "#2a3f5f"
          },
          "geo": {
           "bgcolor": "white",
           "lakecolor": "white",
           "landcolor": "#E5ECF6",
           "showlakes": true,
           "showland": true,
           "subunitcolor": "white"
          },
          "hoverlabel": {
           "align": "left"
          },
          "hovermode": "closest",
          "mapbox": {
           "style": "light"
          },
          "paper_bgcolor": "white",
          "plot_bgcolor": "#E5ECF6",
          "polar": {
           "angularaxis": {
            "gridcolor": "white",
            "linecolor": "white",
            "ticks": ""
           },
           "bgcolor": "#E5ECF6",
           "radialaxis": {
            "gridcolor": "white",
            "linecolor": "white",
            "ticks": ""
           }
          },
          "scene": {
           "xaxis": {
            "backgroundcolor": "#E5ECF6",
            "gridcolor": "white",
            "gridwidth": 2,
            "linecolor": "white",
            "showbackground": true,
            "ticks": "",
            "zerolinecolor": "white"
           },
           "yaxis": {
            "backgroundcolor": "#E5ECF6",
            "gridcolor": "white",
            "gridwidth": 2,
            "linecolor": "white",
            "showbackground": true,
            "ticks": "",
            "zerolinecolor": "white"
           },
           "zaxis": {
            "backgroundcolor": "#E5ECF6",
            "gridcolor": "white",
            "gridwidth": 2,
            "linecolor": "white",
            "showbackground": true,
            "ticks": "",
            "zerolinecolor": "white"
           }
          },
          "shapedefaults": {
           "line": {
            "color": "#2a3f5f"
           }
          },
          "ternary": {
           "aaxis": {
            "gridcolor": "white",
            "linecolor": "white",
            "ticks": ""
           },
           "baxis": {
            "gridcolor": "white",
            "linecolor": "white",
            "ticks": ""
           },
           "bgcolor": "#E5ECF6",
           "caxis": {
            "gridcolor": "white",
            "linecolor": "white",
            "ticks": ""
           }
          },
          "title": {
           "x": 0.05
          },
          "xaxis": {
           "automargin": true,
           "gridcolor": "white",
           "linecolor": "white",
           "ticks": "",
           "title": {
            "standoff": 15
           },
           "zerolinecolor": "white",
           "zerolinewidth": 2
          },
          "yaxis": {
           "automargin": true,
           "gridcolor": "white",
           "linecolor": "white",
           "ticks": "",
           "title": {
            "standoff": 15
           },
           "zerolinecolor": "white",
           "zerolinewidth": 2
          }
         }
        }
       }
      }
     },
     "metadata": {},
     "output_type": "display_data"
    }
   ],
   "source": [
    "def make_prediction_table(df, filename):\n",
    "    cell_colors = [[\"white\" for i in range(len(df))]]\n",
    "    cell_values = [df[\"Date\"].dt.strftime(\"%H:%M\").to_list()]\n",
    "\n",
    "\n",
    "    for column in df.columns:\n",
    "        for pollutant in POLLUTANTS:\n",
    "            if pollutant in column: # if the column name contains pollutant name (i.e. \"PM2.5\")\n",
    "                \n",
    "                cell_values.append(df[column].to_list())\n",
    "                \n",
    "                cmap = utils.cmaps[pollutant]\n",
    "                color_mapped_series = df[column].apply(cmap)\n",
    "                color_mapped_list = color_mapped_series.str[:-2].to_list() # remove last 2 chars which are alpha channel\n",
    "                cell_colors.append(color_mapped_list)\n",
    "                \n",
    "\n",
    "\n",
    "    fig = go.Figure(data=[go.Table(\n",
    "        header=dict(values=df.columns,\n",
    "                    fill_color=\"paleturquoise\"\n",
    "                    ),\n",
    "        cells=dict(values=cell_values,\n",
    "                    fill_color=cell_colors\n",
    "                    ),\n",
    "        )\n",
    "    ])\n",
    "\n",
    "    fig.show()\n",
    "    fig.write_html(f\"{os.path.splitext(filename)[0]}.html\") # remove \".csv\" from filename\n",
    "\n",
    "make_prediction_table(df, filename)"
   ]
  }
 ],
 "metadata": {
  "kernelspec": {
   "display_name": "Python 3",
   "language": "python",
   "name": "python3"
  },
  "language_info": {
   "codemirror_mode": {
    "name": "ipython",
    "version": 3
   },
   "file_extension": ".py",
   "mimetype": "text/x-python",
   "name": "python",
   "nbconvert_exporter": "python",
   "pygments_lexer": "ipython3",
   "version": "3.12.2"
  }
 },
 "nbformat": 4,
 "nbformat_minor": 5
}
